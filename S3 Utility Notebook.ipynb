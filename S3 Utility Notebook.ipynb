{
 "cells": [
  {
   "cell_type": "code",
   "execution_count": null,
   "metadata": {},
   "outputs": [],
   "source": [
    "# Author: Patrick Kelly\n",
    "# Contact: patkelly92@gmail.com\n",
    "# Date: January 14, 2021\n",
    "\n",
    "\"\"\" NECESSARY LIBRARIES: \"\"\"\n",
    "import fnmatch         # file matching\n",
    "import boto3           # Connecting to AWS S3 Bucket\n",
    "from boto3.session import Session         # Creating S3 Session\n",
    "from botocore.exceptions import NoCredentialsError"
   ]
  },
  {
   "cell_type": "markdown",
   "metadata": {},
   "source": [
    "# Pull All Files from an S3 Bucket that Match a Certain Pattern\n",
    "Pull all files from S3 and store in local directory"
   ]
  },
  {
   "cell_type": "code",
   "execution_count": null,
   "metadata": {},
   "outputs": [],
   "source": [
    "# Loading our AWS credentials\n",
    "ACCESS_KEY = \"ACCESS-KEY\" \n",
    "SECRET_KEY = \"SECRET KEY\"\n",
    "\n",
    "# Instantiate our session\n",
    "session = Session(aws_access_key_id=ACCESS_KEY,\n",
    "                  aws_secret_access_key=SECRET_KEY)\n",
    "\n",
    "# to use Boto3, we must tell it what service we are going to use\n",
    "s3 = session.resource('s3')\n",
    "\n",
    "# Specifying our s3 bucket name\n",
    "my_bucket = s3.Bucket('s3-bucket-name')\n",
    "\n",
    "# Printing out a list of all items in our bucket\n",
    "for s3_file in my_bucket.objects.all():\n",
    "  # If file matches our specified pattern, download to our local directory\n",
    "  if fnmatch.fnmatch(s3_file.key, \"s3-directory-name/sales*.csv\"):  \n",
    "    directory = s3_file.key.split('/')[0]\n",
    "    file_name = s3_file.key.split('/')[1]\n",
    "    my_bucket.download_file('{}/{}'.format(directory, file_name), './'+file_name)"
   ]
  },
  {
   "cell_type": "markdown",
   "metadata": {},
   "source": [
    "# Upload a File S3 Bucket\n",
    "A function to upload a file into an S3 Bucket"
   ]
  },
  {
   "cell_type": "code",
   "execution_count": null,
   "metadata": {},
   "outputs": [],
   "source": [
    "ACCESS_KEY = \"AWS_ACCESS_KEY\"\n",
    "SECRET_KEY = \"AWS_SECRET_KEY\"\n",
    "\n",
    "def upload_to_aws(local_file, bucket, s3_file):\n",
    "    s3 = boto3.client('s3', aws_access_key_id=ACCESS_KEY, aws_secret_access_key=SECRET_KEY)\n",
    "    \n",
    "    try:\n",
    "        s3.upload_file(local_file, bucket, s3_file)\n",
    "        print(\"Upload Successful\")\n",
    "        return True\n",
    "    except FileNotFoundError:\n",
    "        print(\"The file was not found\")\n",
    "        return False\n",
    "    except NoCredentialsError:\n",
    "        print(\"Credentials not available\")\n",
    "        return False\n",
    "    \n",
    "uploaded = upload_to_aws('local-file-name', 's3-bucket-name', 's3-bucket-directory/{}'.format('s3-file-name'))"
   ]
  },
  {
   "cell_type": "markdown",
   "metadata": {},
   "source": [
    "# Download a Single File from S3"
   ]
  },
  {
   "cell_type": "code",
   "execution_count": null,
   "metadata": {},
   "outputs": [],
   "source": [
    "ACCESS_KEY = \"AWS_ACCESS_KEY\"\n",
    "SECRET_KEY = \"AWS_SECRET_KEY\"\n",
    "\n",
    "# Instantiate our session\n",
    "session = Session(aws_access_key_id=ACCESS_KEY,\n",
    "                  aws_secret_access_key=SECRET_KEY)\n",
    "\n",
    "# to use Boto3, we must tell it what service we are going to use\n",
    "s3 = session.resource('s3')\n",
    "\n",
    "# Specifying our s3 bucket name\n",
    "my_bucket = s3.Bucket('s3-bucket-name')\n",
    "\n",
    "# File to download\n",
    "file_name = \"sales.csv\"\n",
    "\n",
    "# Download File to local directory\n",
    "my_bucket.download_file(file_name, file_name)"
   ]
  },
  {
   "cell_type": "markdown",
   "metadata": {},
   "source": [
    "# View Contents of S3 Bucket\n"
   ]
  },
  {
   "cell_type": "code",
   "execution_count": null,
   "metadata": {
    "scrolled": false
   },
   "outputs": [],
   "source": [
    "ACCESS_KEY = \"AWS_ACCESS_KEY\"\n",
    "SECRET_KEY = \"AWS_SECRET_KEY\"\n",
    "\n",
    "# Instantiate our session\n",
    "session = Session(aws_access_key_id=ACCESS_KEY,\n",
    "                  aws_secret_access_key=SECRET_KEY)\n",
    "\n",
    "# to use Boto3, we must tell it what service we are going to use\n",
    "s3 = session.resource('s3')\n",
    "\n",
    "# Specifying our s3 bucket name\n",
    "my_bucket = s3.Bucket('s3-bucket-name')\n",
    "\n",
    "# Printing out a list of all items in our bucket\n",
    "for s3_file in my_bucket.objects.all():\n",
    "    print(s3_file.key)"
   ]
  },
  {
   "cell_type": "markdown",
   "metadata": {},
   "source": [
    "# View Contents of S3 Bucket that Match a Pattern"
   ]
  },
  {
   "cell_type": "code",
   "execution_count": null,
   "metadata": {},
   "outputs": [],
   "source": [
    "ACCESS_KEY = \"AWS_ACCESS_KEY\"\n",
    "SECRET_KEY = \"AWS_SECRET_KEY\"\n",
    "\n",
    "# Instantiate our session\n",
    "session = Session(aws_access_key_id=ACCESS_KEY,\n",
    "                  aws_secret_access_key=SECRET_KEY)\n",
    "\n",
    "# to use Boto3, we must tell it what service we are going to use\n",
    "s3 = session.resource('s3')\n",
    "\n",
    "# Specifying our s3 bucket name\n",
    "my_bucket = s3.Bucket('s3-bucket-name')\n",
    "\n",
    "# Printing out a list of all items in our bucket\n",
    "for s3_file in my_bucket.objects.all():\n",
    "    # If file matches our specified pattern, download to our local directory\n",
    "    if fnmatch.fnmatch(s3_file.key, \"s3-directory-name/sales*.csv\"):\n",
    "        print(s3_file.key)"
   ]
  },
  {
   "cell_type": "code",
   "execution_count": null,
   "metadata": {},
   "outputs": [],
   "source": []
  },
  {
   "cell_type": "code",
   "execution_count": null,
   "metadata": {},
   "outputs": [],
   "source": []
  }
 ],
 "metadata": {
  "kernelspec": {
   "display_name": "Python 3",
   "language": "python",
   "name": "python3"
  },
  "language_info": {
   "codemirror_mode": {
    "name": "ipython",
    "version": 3
   },
   "file_extension": ".py",
   "mimetype": "text/x-python",
   "name": "python",
   "nbconvert_exporter": "python",
   "pygments_lexer": "ipython3",
   "version": "3.7.9"
  }
 },
 "nbformat": 4,
 "nbformat_minor": 4
}
